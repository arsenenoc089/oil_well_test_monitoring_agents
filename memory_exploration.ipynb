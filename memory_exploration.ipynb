{
 "cells": [
  {
   "cell_type": "code",
   "execution_count": 1,
   "id": "b201aa09",
   "metadata": {},
   "outputs": [],
   "source": [
    "import pandas as pd\n",
    "import numpy as np\n",
    "from pydantic import BaseModel\n",
    "from typing import List, Literal\n",
    "from datetime import datetime\n",
    "import csv"
   ]
  },
  {
   "cell_type": "code",
   "execution_count": 2,
   "id": "216a3e8f",
   "metadata": {},
   "outputs": [
    {
     "name": "stdout",
     "output_type": "stream",
     "text": [
      "Well: cheetah-20\n",
      "Date: 2023-12-25 00:00:00\n",
      "Anomaly Type: Zonal Test\n"
     ]
    }
   ],
   "source": [
    "class WellTestData(BaseModel):\n",
    "    Date: datetime\n",
    "    WellName: str\n",
    "    Anomaly: bool\n",
    "    AnomalyType: str\n",
    "    WTLIQ: float\n",
    "    WTOil: float\n",
    "    WTTHP: float\n",
    "    WTWCT: float\n",
    "    Z1Status: Literal[\"Open\", \"Closed\"]\n",
    "    Z2Status: Literal[\"Open\", \"Closed\"]\n",
    "    Z3Status: Literal[\"Open\", \"Closed\"]\n",
    "    Z1BHP: float\n",
    "    Z2BHP: float\n",
    "    Z3BHP: float\n",
    "\n",
    "def load_well_data(filepath: str) -> List[WellTestData]:\n",
    "    well_data = []\n",
    "    \n",
    "    with open(filepath, 'r') as file:\n",
    "        # Skip the header row\n",
    "        next(file)\n",
    "        \n",
    "        # Create CSV reader\n",
    "        csv_reader = csv.reader(file)\n",
    "        \n",
    "        for row in csv_reader:\n",
    "            # Clean up whitespace and create dictionary\n",
    "            cleaned_row = [item.strip() for item in row]\n",
    "            data_dict = {\n",
    "                'Date': datetime.strptime(cleaned_row[0], '%Y-%m-%d'),\n",
    "                'WellName': cleaned_row[1],\n",
    "                'Anomaly': cleaned_row[2].lower() == 'true',\n",
    "                'AnomalyType': cleaned_row[3],\n",
    "                'WTLIQ': float(cleaned_row[4]),\n",
    "                'WTOil': float(cleaned_row[5]),\n",
    "                'WTTHP': float(cleaned_row[6]),\n",
    "                'WTWCT': float(cleaned_row[7]),\n",
    "                'Z1Status': cleaned_row[8],\n",
    "                'Z2Status': cleaned_row[9],\n",
    "                'Z3Status': cleaned_row[10],\n",
    "                'Z1BHP': float(cleaned_row[11]),\n",
    "                'Z2BHP': float(cleaned_row[12]),\n",
    "                'Z3BHP': float(cleaned_row[13])\n",
    "            }\n",
    "            well_data.append(WellTestData(**data_dict))\n",
    "    \n",
    "    return well_data\n",
    "\n",
    "# Usage example:\n",
    "data = load_well_data(\"agents/mem.txt\")\n",
    "\n",
    "# Access the first record\n",
    "first_test = data[0]\n",
    "print(f\"Well: {first_test.WellName}\")\n",
    "print(f\"Date: {first_test.Date}\")\n",
    "print(f\"Anomaly Type: {first_test.AnomalyType}\")\n"
   ]
  },
  {
   "cell_type": "code",
   "execution_count": 3,
   "id": "fc76571e",
   "metadata": {},
   "outputs": [
    {
     "data": {
      "text/plain": [
       "[WellTestData(Date=datetime.datetime(2023, 12, 25, 0, 0), WellName='cheetah-20', Anomaly=True, AnomalyType='Zonal Test', WTLIQ=2401.28328059118, WTOil=1434.79148251953, WTTHP=97.0819368018821, WTWCT=4024.89704519036, Z1Status='Closed', Z2Status='Closed', Z3Status='Open', Z1BHP=10260.0, Z2BHP=8480.0, Z3BHP=4110.0),\n",
       " WellTestData(Date=datetime.datetime(2024, 8, 20, 0, 0), WellName='cheetah-20', Anomaly=True, AnomalyType='Zonal Optimization', WTLIQ=6525.4609375, WTOil=3028.80712890625, WTTHP=100.704650878906, WTWCT=5358.47778320312, Z1Status='Closed', Z2Status='Open', Z3Status='Open', Z1BHP=12970.0, Z2BHP=8150.0, Z3BHP=8990.0),\n",
       " WellTestData(Date=datetime.datetime(2024, 8, 20, 0, 0), WellName='cheetah-20', Anomaly=True, AnomalyType='Zonal Optimization', WTLIQ=6525.4609375, WTOil=3028.80712890625, WTTHP=100.704650878906, WTWCT=5358.47778320312, Z1Status='Closed', Z2Status='Open', Z3Status='Open', Z1BHP=12970.0, Z2BHP=8150.0, Z3BHP=8990.0),\n",
       " WellTestData(Date=datetime.datetime(2024, 4, 26, 0, 0), WellName='cheetah-20', Anomaly=True, AnomalyType='Zonal Optimization', WTLIQ=2678.8052184965, WTOil=1396.70500475838, WTTHP=98.8267896083869, WTWCT=4786.08972718706, Z1Status='Closed', Z2Status='Open', Z3Status='Open', Z1BHP=10850.0, Z2BHP=4660.0, Z3BHP=4540.0)]"
      ]
     },
     "execution_count": 3,
     "metadata": {},
     "output_type": "execute_result"
    }
   ],
   "source": [
    "data"
   ]
  },
  {
   "cell_type": "code",
   "execution_count": 4,
   "id": "430973b9",
   "metadata": {},
   "outputs": [
    {
     "name": "stdout",
     "output_type": "stream",
     "text": [
      "Memory content: ['2023-12-25, cheetah-20, True, Zonal Test, 2401.28328059118, 1434.79148251953, 97.0819368018821, 4024.89704519036, Closed, Closed, Open, 10260.0, 8480.0, 4110.0\\n', '2024-08-20, cheetah-20, True, Zonal Optimization, 6525.4609375, 3028.80712890625, 100.704650878906, 5358.47778320312, Closed, Open, Open, 12970.0, 8150.0, 8990.0\\n', '2024-08-20, cheetah-20, True, Zonal Optimization, 6525.4609375, 3028.80712890625, 100.704650878906, 5358.47778320312, Closed, Open, Open, 12970.0, 8150.0, 8990.0\\n', '2024-04-26, cheetah-20, True, Zonal Optimization, 2678.8052184965, 1396.70500475838, 98.8267896083869, 4786.08972718706, Closed, Open, Open, 10850.0, 4660.0, 4540.0\\n']\n"
     ]
    }
   ],
   "source": [
    "with open('agents/mem.txt', 'r') as file:\n",
    "        # Skip the header row\n",
    "    next(file)\n",
    "    mem = str([item for item in file])\n",
    "\n",
    "# Print the memory content\n",
    "print(\"Memory content:\", mem)"
   ]
  },
  {
   "cell_type": "code",
   "execution_count": 5,
   "id": "3d09c198",
   "metadata": {},
   "outputs": [
    {
     "ename": "NameError",
     "evalue": "name 'ZonalTestMemory' is not defined",
     "output_type": "error",
     "traceback": [
      "\u001b[31m---------------------------------------------------------------------------\u001b[39m",
      "\u001b[31mNameError\u001b[39m                                 Traceback (most recent call last)",
      "\u001b[36mCell\u001b[39m\u001b[36m \u001b[39m\u001b[32mIn[5]\u001b[39m\u001b[32m, line 1\u001b[39m\n\u001b[32m----> \u001b[39m\u001b[32m1\u001b[39m mem = \u001b[43mZonalTestMemory\u001b[49m(**lines[\u001b[32m1\u001b[39m])\n",
      "\u001b[31mNameError\u001b[39m: name 'ZonalTestMemory' is not defined"
     ]
    }
   ],
   "source": [
    "mem = ZonalTestMemory(**lines[1])"
   ]
  },
  {
   "cell_type": "code",
   "execution_count": null,
   "id": "7dd478fc",
   "metadata": {},
   "outputs": [],
   "source": []
  }
 ],
 "metadata": {
  "kernelspec": {
   "display_name": "Python 3",
   "language": "python",
   "name": "python3"
  },
  "language_info": {
   "codemirror_mode": {
    "name": "ipython",
    "version": 3
   },
   "file_extension": ".py",
   "mimetype": "text/x-python",
   "name": "python",
   "nbconvert_exporter": "python",
   "pygments_lexer": "ipython3",
   "version": "3.12.1"
  }
 },
 "nbformat": 4,
 "nbformat_minor": 5
}
